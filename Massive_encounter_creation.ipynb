{
 "cells": [
  {
   "cell_type": "code",
   "execution_count": 13,
   "metadata": {},
   "outputs": [],
   "source": [
    "import random\n",
    "import pandas as pd\n",
    "import numpy as np\n",
    "import csv"
   ]
  },
  {
   "cell_type": "code",
   "execution_count": 14,
   "metadata": {},
   "outputs": [],
   "source": [
    "# have one module get monster stats imported to CSV and then another python module to do the rolls and get data from CSV\n",
    "monsters = []\n",
    "attack_list = []\n",
    "damage_list = []\n",
    "health_list = []\n",
    "strength_list = []\n",
    "dex_list = []\n",
    "intelligence_list = []\n",
    "con_list = []\n",
    "wis_list = []\n",
    "cha_list = []\n",
    "combat_condition_list = []\n",
    "initiative_list = []\n",
    "creature_list = []\n",
    "\n",
    "monster_file = \"combat_stats/monsters.csv\"\n",
    "initiative_file = \"combat_stats/initiative_rolls.csv\""
   ]
  },
  {
   "cell_type": "code",
   "execution_count": 15,
   "metadata": {},
   "outputs": [
    {
     "name": "stdout",
     "output_type": "stream",
     "text": [
      "monster name: orc\n",
      "How many mobs are there: 34\n",
      "enter attack modifier: 2\n",
      "enter damage modifier: 3\n",
      "enter their total health: 2\n",
      "enter their strength modifier: 3\n",
      "enter their dex modifier: 2\n",
      "enter their intelligence modifier: 2\n",
      "enter their wis modifier: 2\n",
      "enter their con modifier: 2\n",
      "enter their cha modifier: 2\n",
      "enter additional initiative modifiers0\n",
      "Are there any more monster groups (enter yes or no)no\n"
     ]
    }
   ],
   "source": [
    "#set up monsters\n",
    "# repeat module for another set of monsters or a single monster\n",
    "moar = str(\"yes\")\n",
    "while moar == str(\"yes\"):\n",
    "    name = str(input(\"monster name: \"))    \n",
    "    count =int(float(input(\"How many mobs are there: \")))\n",
    "    attack = int(float(input(\"enter attack modifier: \")))\n",
    "    damage = int(float(input(\"enter damage modifier: \")))\n",
    "    health = int(float(input(\"enter their total health: \")))\n",
    "    strength = int(float(input(\"enter their strength modifier: \")))\n",
    "    dex = int(float(input(\"enter their dex modifier: \")))\n",
    "    intelligence = int(float(input(\"enter their intelligence modifier: \")))\n",
    "    wis = int(float(input(\"enter their wis modifier: \")))\n",
    "    con = int(float(input(\"enter their con modifier: \")))\n",
    "    cha = int(float(input(\"enter their cha modifier: \")))\n",
    "    additional = int(float(input(\"enter additional initiative modifiers\")))\n",
    "    combat_condition = str(\"normal\")\n",
    "    while count > 0:\n",
    "        Monster_ID = name + str(count)\n",
    "        monsters.append(Monster_ID)\n",
    "        attack_list.append(attack)\n",
    "        damage_list.append(damage)\n",
    "        health_list.append(health)\n",
    "        cha_list.append(cha)\n",
    "        wis_list.append(wis)\n",
    "        con_list.append(con)\n",
    "        strength_list.append(strength)\n",
    "        intelligence_list.append(intelligence)\n",
    "        dex_list.append(dex)\n",
    "        combat_condition_list.append(combat_condition)\n",
    "        roll = random.randint(1,21)\n",
    "        initiative = roll + dex + additional\n",
    "        initiative_list.append(initiative)\n",
    "        creature_list.append(Monster_ID)\n",
    "        count -= 1\n",
    "    moar = str(input(\"Are there any more monster groups (enter yes or no)\"))"
   ]
  },
  {
   "cell_type": "code",
   "execution_count": 24,
   "metadata": {},
   "outputs": [],
   "source": [
    "Monster_dictionary = {\"monster_name\": monsters, \"attack mod\": attack_list, \"damage mod\": damage_list, \"monster health\": health_list, \"str mod\": strength_list, \"dex mod\": dex_list, \"int mod\": intelligence_list, \"con mod\": con_list, \"cha mod\": cha_list, \"wis mod\": wis_list, \"combat condition\": combat_condition}\n",
    "Monster_rolls = pd.DataFrame(Monster_dictionary, index=monsters)\n",
    "Monster_rolls\n",
    "Monster_rolls.to_csv(monster_file, index=False)"
   ]
  },
  {
   "cell_type": "code",
   "execution_count": 25,
   "metadata": {},
   "outputs": [
    {
     "data": {
      "text/plain": [
       "34"
      ]
     },
     "execution_count": 25,
     "metadata": {},
     "output_type": "execute_result"
    }
   ],
   "source": [
    "len(monsters)"
   ]
  },
  {
   "cell_type": "code",
   "execution_count": 18,
   "metadata": {},
   "outputs": [],
   "source": [
    "# Rolls\n",
    "#attack_roll = []\n",
    "#creature_list = []\n",
    "#mob = len(monsters)\n",
    "#for x in range(mob):\n",
    "#    rollD20_first = random.randint(1,21)\n",
    "#    rollD20_second = random.randint(1,21)\n",
    "#    attack_roll.append(rollD20)\n",
    "#attack_total = np.add(attack_roll, attack_list)"
   ]
  },
  {
   "cell_type": "code",
   "execution_count": 19,
   "metadata": {},
   "outputs": [
    {
     "name": "stdout",
     "output_type": "stream",
     "text": [
      "player name: Van Helsing\n",
      "Initiative? 23\n",
      "Anymore player rolls (yes or no)? no\n"
     ]
    }
   ],
   "source": [
    "player_rolls = \"yes\"\n",
    "while player_rolls == \"yes\":\n",
    "    creature = str(input(\"player name: \"))\n",
    "    roll = int(float(input(\"Initiative? \")))\n",
    "    initiative_list.append(roll)\n",
    "    creature_list.append(creature)\n",
    "    player_rolls = input(\"Anymore player rolls (yes or no)? \")\n",
    "\n",
    "    "
   ]
  },
  {
   "cell_type": "code",
   "execution_count": 23,
   "metadata": {},
   "outputs": [],
   "source": [
    "initiative_dictionary = {\"creature name\": creature_list, \"initiative\": initiative_list}\n",
    "initiative_order = pd.DataFrame(initiative_dictionary)\n",
    "sorted_initiative_order = initiative_order.sort_values(\"initiative\", ascending=False)\n",
    "sorted_initiative_order\n",
    "initiative_csv = sorted_initiative_order.to_csv(initiative_file, encoding='utf-8', index=False)"
   ]
  },
  {
   "cell_type": "code",
   "execution_count": 19,
   "metadata": {},
   "outputs": [],
   "source": [
    "# Drop an observation or row\n",
    "#Monster_dictionary = Monster_rolls.drop([\"Orc2\"])"
   ]
  },
  {
   "cell_type": "code",
   "execution_count": 18,
   "metadata": {},
   "outputs": [
    {
     "data": {
      "text/html": [
       "<div>\n",
       "<style scoped>\n",
       "    .dataframe tbody tr th:only-of-type {\n",
       "        vertical-align: middle;\n",
       "    }\n",
       "\n",
       "    .dataframe tbody tr th {\n",
       "        vertical-align: top;\n",
       "    }\n",
       "\n",
       "    .dataframe thead th {\n",
       "        text-align: right;\n",
       "    }\n",
       "</style>\n",
       "<table border=\"1\" class=\"dataframe\">\n",
       "  <thead>\n",
       "    <tr style=\"text-align: right;\">\n",
       "      <th></th>\n",
       "      <th>monster_name</th>\n",
       "      <th>attack roll</th>\n",
       "    </tr>\n",
       "  </thead>\n",
       "  <tbody>\n",
       "    <tr>\n",
       "      <th>Orc2</th>\n",
       "      <td>Orc2</td>\n",
       "      <td>24</td>\n",
       "    </tr>\n",
       "    <tr>\n",
       "      <th>Orc1</th>\n",
       "      <td>Orc1</td>\n",
       "      <td>16</td>\n",
       "    </tr>\n",
       "  </tbody>\n",
       "</table>\n",
       "</div>"
      ],
      "text/plain": [
       "     monster_name  attack roll\n",
       "Orc2         Orc2           24\n",
       "Orc1         Orc1           16"
      ]
     },
     "execution_count": 18,
     "metadata": {},
     "output_type": "execute_result"
    }
   ],
   "source": [
    "#Monster_dictionary = {\"monster_name\": monsters, \"attack roll\": attack_total}\n",
    "#Monster_rolls = pd.DataFrame(Monster_dictionary, index=monsters)\n",
    "#Monster_rolls"
   ]
  },
  {
   "cell_type": "code",
   "execution_count": null,
   "metadata": {},
   "outputs": [],
   "source": []
  }
 ],
 "metadata": {
  "kernelspec": {
   "display_name": "Python 3",
   "language": "python",
   "name": "python3"
  },
  "language_info": {
   "codemirror_mode": {
    "name": "ipython",
    "version": 3
   },
   "file_extension": ".py",
   "mimetype": "text/x-python",
   "name": "python",
   "nbconvert_exporter": "python",
   "pygments_lexer": "ipython3",
   "version": "3.6.5"
  }
 },
 "nbformat": 4,
 "nbformat_minor": 2
}
